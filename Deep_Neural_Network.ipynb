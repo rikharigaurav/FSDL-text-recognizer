{
  "cells": [
    {
      "cell_type": "markdown",
      "metadata": {
        "id": "view-in-github",
        "colab_type": "text"
      },
      "source": [
        "<a href=\"https://colab.research.google.com/github/rikharigaurav/FSDL-text-recognizer/blob/main/Deep_Neural_Network.ipynb\" target=\"_parent\"><img src=\"https://colab.research.google.com/assets/colab-badge.svg\" alt=\"Open In Colab\"/></a>"
      ]
    },
    {
      "cell_type": "markdown",
      "metadata": {
        "id": "blRRYw5o1cyz"
      },
      "source": [
        "Pytorch is library used to simplify deep learning\n",
        "\n",
        "it provides designed modules and classes to create nueral network, optimization, Datasets and Dataloaders\n",
        "\n"
      ]
    },
    {
      "cell_type": "markdown",
      "metadata": {
        "id": "-vGZTpEMFzTU"
      },
      "source": [
        "# what is torch.nn\n"
      ]
    },
    {
      "cell_type": "markdown",
      "metadata": {
        "id": "pHucuMRZ1uX-"
      },
      "source": [
        "\n",
        "to answer this question we will use MNIST datset .\n",
        "this datset consists of black and white images of hand-written digits"
      ]
    },
    {
      "cell_type": "code",
      "execution_count": null,
      "metadata": {
        "id": "PJ4EzG4Y2qCR"
      },
      "outputs": [],
      "source": [
        "from pathlib import Path\n",
        "import requests\n",
        "\n",
        "\n",
        "def download_mnist(path):\n",
        "    url = \"https://github.com/pytorch/tutorials/raw/main/_static/\"\n",
        "    filename = \"mnist.pkl.gz\"\n",
        "\n",
        "    if not (path / filename).exists():\n",
        "        content = requests.get(url + filename).content\n",
        "        (path / filename).open(\"wb\").write(content)\n",
        "\n",
        "    return path / filename\n",
        "\n",
        "\n",
        "data_path = Path(\"data\") if Path(\"data\").exists() else Path(\"../data\")\n",
        "path = data_path / \"downloaded\" / \"vector-mnist\"\n",
        "path.mkdir(parents=True, exist_ok=True)\n",
        "\n",
        "datafile = download_mnist(path)"
      ]
    },
    {
      "cell_type": "code",
      "execution_count": null,
      "metadata": {
        "id": "qRn28odI3QK1"
      },
      "outputs": [],
      "source": [
        "import gzip\n",
        "import pickle\n",
        "\n",
        "def read_mnist(path):\n",
        "  with gzip.open(path, \"rb\") as f:\n",
        "    ((x_train, y_train), (x_valid, y_valid), _) = pickle.load(f, encoding=\"latin-1\")\n",
        "  return x_train, y_train, x_valid, y_valid\n",
        "\n",
        "x_train, y_trian, x_valid, y_valid = read_mnist(datafile)"
      ]
    },
    {
      "cell_type": "markdown",
      "metadata": {
        "id": "gzm8fno93sQa"
      },
      "source": [
        "Since each image is 28 X 28. so we need to flatten it so the number of rows = 784(28X28)"
      ]
    },
    {
      "cell_type": "code",
      "execution_count": null,
      "metadata": {
        "colab": {
          "base_uri": "https://localhost:8080/"
        },
        "id": "B--mygmR4C6Q",
        "outputId": "5ff81a38-a976-4d3a-ae9e-b71ff442e602"
      },
      "outputs": [
        {
          "output_type": "display_data",
          "data": {
            "text/plain": [
              "<Figure size 640x480 with 1 Axes>"
            ],
            "image/png": "[encoded data removed]"
          },
          "metadata": {}
        },
        {
          "output_type": "stream",
          "name": "stdout",
          "text": [
            "(50000, 784)\n"
          ]
        }
      ],
      "source": [
        "import matplotlib.pyplot as plt\n",
        "import numpy as np\n",
        "\n",
        "plt.imshow(x_train[0].reshape((28, 28)), cmap = \"gray\")\n",
        "\n",
        "plt.show()\n",
        "print(x_train.shape)"
      ]
    },
    {
      "cell_type": "markdown",
      "metadata": {
        "id": "b9MAWf074f8A"
      },
      "source": [
        "Neural net from scratch (without torch.nn)"
      ]
    },
    {
      "cell_type": "markdown",
      "metadata": {
        "id": "SYIFiJwi5kX7"
      },
      "source": [
        "**STEP 1:** we will initialize the weights and biases. Here we are using the Xavier initialization\n",
        "\n",
        "**Xavier initialization:** multipying with (1/sqrt(n))"
      ]
    },
    {
      "cell_type": "code",
      "execution_count": null,
      "metadata": {
        "id": "FeLIsrz35LX6"
      },
      "outputs": [],
      "source": [
        "import math\n",
        "import torch\n",
        "\n",
        "weights = torch.randn(784, 10) / math.sqrt(784)\n",
        "weights.requires_grad_()\n",
        "bias = torch.zeros(10, requires_grad=True)"
      ]
    },
    {
      "cell_type": "markdown",
      "metadata": {
        "id": "1YYN8hCvVHVp"
      },
      "source": [
        "**Step 2:** Create an activation function\n",
        "\n",
        "Activation Function is used to prevent linearity in the prediction. otherwise the nodes will act as an linear function"
      ]
    },
    {
      "cell_type": "code",
      "execution_count": null,
      "metadata": {
        "id": "dcwI78wXVIaU"
      },
      "outputs": [],
      "source": [
        "def log_softmax(x):\n",
        "  return x - x.exp().sum(-1).log().unsqueeze(-1)\n",
        "\n",
        "def model(xb):\n",
        "  return log_softmax(xb @ weights + bias) # @ helps in matrix multiplication"
      ]
    },
    {
      "cell_type": "markdown",
      "metadata": {
        "id": "NmxQ_sIoV3bw"
      },
      "source": [
        "Here we are doing FORWARD PASS (forward pass is nothing but just predicting the output).\n",
        "\n",
        "**Note** Right now the prediction won't be better. They will we just random prediction due to random values of weights and bias.\n",
        "\n",
        "\n",
        "\n",
        "but at"
      ]
    },
    {
      "cell_type": "code",
      "execution_count": null,
      "metadata": {
        "colab": {
          "base_uri": "https://localhost:8080/"
        },
        "id": "1U4KtJGyWfEX",
        "outputId": "fccc2fc6-421d-40cf-c2d4-ba8d0a23af23"
      },
      "outputs": [
        {
          "output_type": "stream",
          "name": "stdout",
          "text": [
            "tensor([-2.1245, -2.3339, -2.2012, -1.8563, -2.4264, -2.7176, -2.6094, -2.6572,\n",
            "        -1.8053, -2.9166], grad_fn=<SelectBackward0>) torch.Size([32, 10])\n"
          ]
        }
      ],
      "source": [
        "batch_size = 32\n",
        "\n",
        "xb = x_train[0:batch_size]  # This creates a mini-batch from the x_train\n",
        "preds = model(torch.from_numpy(xb))    # Prediction\n",
        "\n",
        "# torch.from_numpy help to convert numpy array to tensor to support matrix multiplication\n",
        "\n",
        "preds[0], preds.shape\n",
        "print(preds[0], preds.shape)\n"
      ]
    },
    {
      "cell_type": "markdown",
      "metadata": {
        "id": "HG4fsT4gYghB"
      },
      "source": [
        "Let's implement -ve log-likelihood to use as the loss function"
      ]
    },
    {
      "cell_type": "code",
      "execution_count": null,
      "metadata": {
        "id": "KrZevHOYYxsO"
      },
      "outputs": [],
      "source": [
        "def nll(input, target):\n",
        "  return -input[range(target.shape[0]), target].mean()\n",
        "\n",
        "loss_func = nll"
      ]
    },
    {
      "cell_type": "markdown",
      "metadata": {
        "id": "-wYc7ipEGHWk"
      },
      "source": [
        "# Setup\n"
      ]
    },
    {
      "cell_type": "code",
      "execution_count": null,
      "metadata": {
        "colab": {
          "base_uri": "https://localhost:8080/"
        },
        "id": "-Nwrd3i8GLsu",
        "outputId": "dd6b2896-44aa-49e4-b73d-4d1f2d450d4d"
      },
      "outputs": [
        {
          "output_type": "stream",
          "name": "stdout",
          "text": [
            "env: PYTHONPATH=.:/env/python\n",
            ".:/env/python\n",
            "/content/fsdl-text-recognizer-2022-labs/lab01\n",
            "\u001b[0m\u001b[01;34mnotebooks\u001b[0m/  \u001b[01;34mtext_recognizer\u001b[0m/\n"
          ]
        }
      ],
      "source": [
        "lab_idx = 1\n",
        "\n",
        "if \"bootstrap\" not in locals() or bootstrap.run:\n",
        "    # path management for Python\n",
        "    pythonpath, = !echo $PYTHONPATH\n",
        "    if \".\" not in pythonpath.split(\":\"):\n",
        "        pythonpath = \".:\" + pythonpath\n",
        "        %env PYTHONPATH={pythonpath}\n",
        "        !echo $PYTHONPATH\n",
        "\n",
        "    # get both Colab and local notebooks into the same state\n",
        "    !wget --quiet https://fsdl.me/gist-bootstrap -O bootstrap.py\n",
        "    import bootstrap\n",
        "\n",
        "    # change into the lab directory\n",
        "    bootstrap.change_to_lab_dir(lab_idx=lab_idx)\n",
        "\n",
        "    # allow \"hot-reloading\" of modules\n",
        "    %load_ext autoreload\n",
        "    %autoreload 2\n",
        "    # needed for inline plots in some contexts\n",
        "    %matplotlib inline\n",
        "\n",
        "    bootstrap.run = False  # change to True re-run setup\n",
        "\n",
        "!pwd\n",
        "%ls"
      ]
    },
    {
      "cell_type": "markdown",
      "metadata": {
        "id": "5kg1nFaII5Ma"
      },
      "source": [
        "# Getting data and making tensors"
      ]
    },
    {
      "cell_type": "code",
      "execution_count": null,
      "metadata": {
        "id": "jfmG78IJI9xi"
      },
      "outputs": [],
      "source": [
        "from pathlib import Path\n",
        "import requests\n",
        "\n",
        "\n",
        "def download_mnist(path):\n",
        "    url = \"https://github.com/pytorch/tutorials/raw/main/_static/\"\n",
        "    filename = \"mnist.pkl.gz\"\n",
        "\n",
        "    if not (path / filename).exists():\n",
        "        content = requests.get(url + filename).content\n",
        "        (path / filename).open(\"wb\").write(content)\n",
        "\n",
        "    return path / filename\n",
        "\n",
        "\n",
        "data_path = Path(\"data\") if Path(\"data\").exists() else Path(\"../data\")\n",
        "path = data_path / \"downloaded\" / \"vector-mnist\"\n",
        "path.mkdir(parents=True, exist_ok=True)\n",
        "\n",
        "datafile = download_mnist(path)"
      ]
    },
    {
      "cell_type": "markdown",
      "metadata": {
        "id": "TECaHqPfJf6s"
      },
      "source": [
        "The data used above is generally too large to be stored on a disk.\n",
        "\n",
        "so fetching data over a network is a common first step in model training\n",
        "\n",
        "The dataset above is too large which can require more resource to read, write and sending over the network - so the datasets is compressed (.gz extension)\n",
        "\n"
      ]
    },
    {
      "cell_type": "code",
      "execution_count": null,
      "metadata": {
        "id": "dHbnbib5Kbvs"
      },
      "outputs": [],
      "source": [
        "import gzip\n",
        "import pickle\n",
        "\n",
        "def read_mnist(path):\n",
        "  with gzip.open(path, \"rb\") as f:\n",
        "    ((x_train, y_train), (x_valid, y_valid), _) = pickle.load(f, encoding=\"latin-1\")\n",
        "  return x_train, y_train, x_valid, y_valid\n",
        "\n",
        "x_train, y_train, x_valid, y_valid = read_mnist(datafile)"
      ]
    },
    {
      "cell_type": "markdown",
      "metadata": {
        "id": "ZYMhAey1LKb8"
      },
      "source": [
        "torch.tensor helps us to convert our array into tensor\n",
        "\n",
        "Tensor: Tensor in ML is just like an n-dimension array"
      ]
    },
    {
      "cell_type": "code",
      "execution_count": null,
      "metadata": {
        "id": "Pl186c7wLoX3"
      },
      "outputs": [],
      "source": [
        "import torch\n",
        "\n",
        "x_train, y_train, x_valid, y_valid = map(\n",
        "    torch.tensor, (x_train, y_train, x_valid, y_valid)\n",
        ")"
      ]
    },
    {
      "cell_type": "code",
      "execution_count": null,
      "metadata": {
        "colab": {
          "base_uri": "https://localhost:8080/"
        },
        "id": "EBvUlosOL0GN",
        "outputId": "a17348f3-7f82-44a8-d5d0-1bef14165c3d"
      },
      "outputs": [
        {
          "output_type": "stream",
          "name": "stdout",
          "text": [
            "tensor([[0., 0., 0.,  ..., 0., 0., 0.],\n",
            "        [0., 0., 0.,  ..., 0., 0., 0.],\n",
            "        [0., 0., 0.,  ..., 0., 0., 0.],\n",
            "        ...,\n",
            "        [0., 0., 0.,  ..., 0., 0., 0.],\n",
            "        [0., 0., 0.,  ..., 0., 0., 0.],\n",
            "        [0., 0., 0.,  ..., 0., 0., 0.]])\n",
            "tensor([5, 0, 4,  ..., 8, 4, 8])\n"
          ]
        }
      ],
      "source": [
        "print(x_train, y_train, sep=\"\\n\")"
      ]
    },
    {
      "cell_type": "markdown",
      "metadata": {
        "id": "g5wEUaKYL6I0"
      },
      "source": [
        "Accessing the content of Tensor is called \"indexing\""
      ]
    },
    {
      "cell_type": "code",
      "execution_count": null,
      "metadata": {
        "colab": {
          "base_uri": "https://localhost:8080/"
        },
        "id": "zXqMTkPzM04i",
        "outputId": "67cd1da3-b2d4-46c1-e43c-42c26bd7bb47"
      },
      "outputs": [
        {
          "output_type": "execute_result",
          "data": {
            "text/plain": [
              "(tensor(5),\n",
              " tensor([0.0000, 0.0000, 0.0000, 0.0000, 0.0000, 0.0000, 0.0000, 0.0000, 0.0000,\n",
              "         0.0000, 0.0000, 0.0000, 0.0000, 0.0000, 0.0000, 0.0000, 0.0000, 0.0000,\n",
              "         0.0000, 0.0000, 0.0000, 0.0000, 0.0000, 0.0000, 0.0000, 0.0000, 0.0000,\n",
              "         0.0000, 0.0000, 0.0000, 0.0000, 0.0000, 0.0000, 0.0000, 0.0000, 0.0000,\n",
              "         0.0000, 0.0000, 0.0000, 0.0000, 0.0000, 0.0000, 0.0000, 0.0000, 0.0000,\n",
              "         0.0000, 0.0000, 0.0000, 0.0000, 0.0000, 0.0000, 0.0000, 0.0000, 0.0000,\n",
              "         0.0000, 0.0000, 0.0000, 0.0000, 0.0000, 0.0000, 0.0000, 0.0000, 0.0000,\n",
              "         0.0000, 0.0000, 0.0000, 0.0000, 0.0000, 0.0000, 0.0000, 0.0000, 0.0000,\n",
              "         0.0000, 0.0000, 0.0000, 0.0000, 0.0117, 0.0703, 0.4922, 0.6836, 0.6484,\n",
              "         0.9648, 0.0000, 0.0000, 0.0000, 0.0000, 0.0000, 0.0000, 0.1172, 0.3672,\n",
              "         0.6641, 0.9883, 0.9883, 0.8789, 0.9883, 0.7617, 0.0000, 0.0000, 0.0000,\n",
              "         0.0000, 0.0000, 0.0000, 0.9297, 0.9883, 0.9883, 0.9883, 0.9883, 0.3633,\n",
              "         0.3203, 0.1523, 0.0000, 0.0000, 0.0000, 0.0000, 0.0000, 0.0000, 0.8555,\n",
              "         0.9883, 0.9883, 0.7734, 0.9648, 0.0000, 0.0000, 0.0000, 0.0000, 0.0000,\n",
              "         0.0000, 0.0000, 0.0000, 0.0000, 0.3125, 0.4180, 0.9883, 0.0430, 0.1680,\n",
              "         0.0000, 0.0000, 0.0000, 0.0000, 0.0000, 0.0000, 0.0000, 0.0000, 0.0000,\n",
              "         0.0000, 0.0039, 0.9883, 0.0000, 0.0000, 0.0000, 0.0000, 0.0000, 0.0000,\n",
              "         0.0000, 0.0000, 0.0000, 0.0000, 0.0000, 0.0000, 0.0000, 0.9883, 0.0078,\n",
              "         0.0000, 0.0000, 0.0000, 0.0000, 0.0000, 0.0000, 0.0000, 0.0000, 0.0000,\n",
              "         0.0000, 0.0000, 0.0000, 0.7422, 0.2734, 0.0000, 0.0000, 0.0000, 0.0000,\n",
              "         0.0000, 0.0000, 0.0000, 0.0000, 0.0000, 0.0000, 0.0000, 0.0000, 0.1367,\n",
              "         0.8789, 0.4219, 0.0000, 0.0000, 0.0000, 0.0000, 0.0000, 0.0000, 0.0000,\n",
              "         0.0000, 0.0000, 0.0000, 0.0000, 0.0000, 0.9375, 0.9883, 0.0977, 0.0000,\n",
              "         0.0000, 0.0000, 0.0000, 0.0000, 0.0000, 0.0000, 0.0000, 0.0000, 0.0000,\n",
              "         0.0000, 0.1758, 0.9883, 0.5859, 0.0000, 0.0000, 0.0000, 0.0000, 0.0000,\n",
              "         0.0000, 0.0000, 0.0000, 0.0000, 0.0000, 0.0000, 0.0000, 0.3633, 0.9883,\n",
              "         0.0000, 0.0000, 0.0000, 0.0000, 0.0000, 0.0000, 0.0000, 0.0000, 0.0000,\n",
              "         0.0000, 0.0000, 0.0000, 0.0000, 0.9883, 0.2500, 0.0000, 0.0000, 0.0000,\n",
              "         0.0000, 0.0000, 0.0000, 0.0000, 0.0000, 0.0000, 0.0000, 0.1797, 0.7148,\n",
              "         0.9883, 0.0078, 0.0000, 0.0000, 0.0000, 0.0000, 0.0000, 0.0000, 0.0000,\n",
              "         0.0000, 0.0000, 0.1523, 0.8945, 0.9883, 0.9766, 0.0000, 0.0000, 0.0000,\n",
              "         0.0000, 0.0000, 0.0000, 0.0000, 0.0000, 0.0000, 0.0938, 0.8633, 0.9883,\n",
              "         0.9883, 0.3047, 0.0000, 0.0000, 0.0000, 0.0000, 0.0000, 0.0000, 0.0000,\n",
              "         0.0000, 0.0898, 0.8320, 0.9883, 0.9883, 0.3164, 0.0000, 0.0000, 0.0000,\n",
              "         0.0000, 0.0000, 0.0000, 0.0000, 0.0000, 0.0703, 0.8555, 0.9883, 0.9883,\n",
              "         0.3125, 0.0000, 0.0000, 0.0000, 0.0000, 0.0000, 0.0000, 0.0000, 0.0000,\n",
              "         0.2148, 0.8828, 0.9883, 0.9883, 0.5195, 0.0000, 0.0000, 0.0000, 0.0000,\n",
              "         0.0000, 0.0000, 0.0000, 0.0000, 0.0000, 0.5312, 0.9883, 0.8281, 0.5156,\n",
              "         0.0000, 0.0000, 0.0000, 0.0000, 0.0000, 0.0000, 0.0000, 0.0000, 0.0000,\n",
              "         0.0000, 0.0000, 0.0000, 0.0000, 0.0000, 0.0000, 0.0000, 0.0000, 0.0000,\n",
              "         0.0000, 0.0000, 0.0000, 0.0000, 0.0000, 0.0000, 0.0000, 0.0000, 0.0000,\n",
              "         0.0000, 0.0000, 0.0000, 0.0000, 0.0000, 0.0000, 0.0000, 0.0000, 0.0000,\n",
              "         0.0000, 0.0000, 0.0000, 0.0000, 0.0000, 0.0000, 0.0000, 0.0000, 0.0000,\n",
              "         0.0000, 0.0000, 0.0000, 0.0000, 0.0000]))"
            ]
          },
          "metadata": {},
          "execution_count": 13
        }
      ],
      "source": [
        "y_train[0], x_train[0, ::2]"
      ]
    },
    {
      "cell_type": "code",
      "execution_count": null,
      "metadata": {
        "colab": {
          "base_uri": "https://localhost:8080/"
        },
        "id": "ccdiQNUxM6mC",
        "outputId": "60e4e9b5-484e-4355-ed59-6af9ce942ae6"
      },
      "outputs": [
        {
          "output_type": "execute_result",
          "data": {
            "text/plain": [
              "(2, 1)"
            ]
          },
          "metadata": {},
          "execution_count": 14
        }
      ],
      "source": [
        "# .ndim provide the dimension of the following tensor\n",
        "\n",
        "x_train.ndim, y_train.ndim"
      ]
    },
    {
      "cell_type": "code",
      "execution_count": null,
      "metadata": {
        "colab": {
          "base_uri": "https://localhost:8080/"
        },
        "id": "0QpYVo99NHD6",
        "outputId": "f79b8112-f4b5-4faf-ca1d-7f77e445890d"
      },
      "outputs": [
        {
          "output_type": "execute_result",
          "data": {
            "text/plain": [
              "(tensor(0.), tensor(5))"
            ]
          },
          "metadata": {},
          "execution_count": 15
        }
      ],
      "source": [
        "x_train[0, 0], y_train[0]"
      ]
    },
    {
      "cell_type": "code",
      "execution_count": null,
      "metadata": {
        "colab": {
          "base_uri": "https://localhost:8080/"
        },
        "id": "G3It1tkzNkOB",
        "outputId": "db4e0992-a9ef-4255-ba1f-cf7a9858f456"
      },
      "outputs": [
        {
          "output_type": "stream",
          "name": "stdout",
          "text": [
            "torch.Size([50000, 784])\n",
            "torch.Size([50000])\n"
          ]
        }
      ],
      "source": [
        "n, c = x_train.shape\n",
        "print(x_train.shape)\n",
        "print(y_train.shape)"
      ]
    },
    {
      "cell_type": "markdown",
      "metadata": {
        "id": "BDO23f8-OKc4"
      },
      "source": [
        "The Tensors inside of the x_train Tensor aren't just any old blocks of numbers: they're images of handwritten digits. The y_train Tensor contains the identities of those digits."
      ]
    },
    {
      "cell_type": "code",
      "execution_count": null,
      "metadata": {
        "colab": {
          "base_uri": "https://localhost:8080/"
        },
        "id": "9sx1OPwjOrus",
        "outputId": "d3cc5e8f-4790-4252-a496-c91b91d3aaac"
      },
      "outputs": [
        {
          "output_type": "stream",
          "name": "stdout",
          "text": [
            "tensor(2)\n"
          ]
        },
        {
          "output_type": "execute_result",
          "data": {
            "text/plain": [
              "<PIL.PngImagePlugin.PngImageFile image mode=RGB size=28x28>"
            ],
            "image/png": "[encoded data removed]"
          },
          "metadata": {},
          "execution_count": 17
        }
      ],
      "source": [
        "# re-execute this cell for more samples\n",
        "import random\n",
        "\n",
        "import wandb  # just for some convenience methods that convert tensors to human-friendly datatypes\n",
        "\n",
        "import text_recognizer.metadata.mnist as metadata # metadata module holds metadata separate from data\n",
        "\n",
        "idx = random.randint(0, len(x_train))\n",
        "example = x_train[idx]\n",
        "\n",
        "print(y_train[idx])  # the label of the image\n",
        "wandb.Image(example.reshape(*metadata.DIMS)).image  # the image itself"
      ]
    },
    {
      "cell_type": "markdown",
      "metadata": {
        "id": "0NuDq7NGPcCN"
      },
      "source": [
        "# Building a DNN using only torch.Tensor methods and Python"
      ]
    },
    {
      "cell_type": "markdown",
      "metadata": {
        "id": "YUBeTVBOTpPK"
      },
      "source": [
        "## Defining the model\n"
      ]
    },
    {
      "cell_type": "markdown",
      "metadata": {
        "id": "50a4S-MET8ZS"
      },
      "source": [
        "We'll make the simplest possible neural network: a single layer that performs matrix multiplication, and adds a vector of biases."
      ]
    },
    {
      "cell_type": "code",
      "execution_count": null,
      "metadata": {
        "id": "3zk4hWxTcy6T"
      },
      "outputs": [],
      "source": [
        "import math\n",
        "import torch\n",
        "\n",
        "weights = torch.randn(784, 10) / math.sqrt(784)\n",
        "weights.requires_grad_()\n",
        "bias = torch.zeros(10, requires_grad=True)"
      ]
    },
    {
      "cell_type": "code",
      "execution_count": null,
      "metadata": {
        "id": "Axf3DMouczSy"
      },
      "outputs": [],
      "source": [
        "def linear(x: torch.Tensor) -> torch.Tensor:\n",
        "    return x @ weights + bias"
      ]
    },
    {
      "cell_type": "markdown",
      "metadata": {
        "id": "8Lbrss7OczWV"
      },
      "source": [
        "We need to normalize our model's outputs with a softmax to get our model to output something we can use as a probability distribution -- the probability that the network assigns to each label for the image.\n",
        "\n",
        "For that, we'll need some torch math functions, like torch.sum and torch.exp.\n",
        "\n",
        "We compute the logarithm of that softmax value in part for numerical stability reasons and in part because [it is more natural to work with the logarithms of probabilities.](https://www.youtube.com/watch?v=LBemXHm_Ops&t=1071s)\n",
        "\n"
      ]
    },
    {
      "cell_type": "code",
      "execution_count": null,
      "metadata": {
        "id": "B4rjKxpJdXr3"
      },
      "outputs": [],
      "source": [
        "def log_softmax(x: torch.Tensor) -> torch.Tensor:\n",
        "    return x - torch.log(torch.sum(torch.exp(x), axis=1))[:, None]\n",
        "\n",
        "def model(xb: torch.Tensor) -> torch.Tensor:\n",
        "    return log_softmax(linear(xb))"
      ]
    },
    {
      "cell_type": "code",
      "execution_count": null,
      "metadata": {
        "id": "iDydxpQ9egHZ",
        "colab": {
          "base_uri": "https://localhost:8080/"
        },
        "outputId": "255705ff-21a4-484e-fc59-c3b93908ae0c"
      },
      "outputs": [
        {
          "output_type": "stream",
          "name": "stdout",
          "text": [
            "tensor([-2.5260, -1.6185, -2.6774, -2.5753, -2.5511, -2.2622, -2.0818, -2.6549,\n",
            "        -2.4585, -2.1692], grad_fn=<SelectBackward0>) torch.Size([64, 10])\n"
          ]
        }
      ],
      "source": [
        "bs = 64  # batch size\n",
        "\n",
        "xb = x_train[0:bs]  # a mini-batch of inputs\n",
        "outs = model(xb)  # outputs on that batch\n",
        "\n",
        "print(outs[0], outs.shape)  # outputs on the first element of the batch"
      ]
    },
    {
      "cell_type": "markdown",
      "metadata": {
        "id": "EJVfzdWaTuyr"
      },
      "source": [
        "## Defining the loss and metrics"
      ]
    },
    {
      "cell_type": "markdown",
      "metadata": {
        "id": "RQjdHj2aT4_1"
      },
      "source": [
        "Since we have set the weights randomly ofcourse we are going to get wrong prediction\n",
        "\n",
        "We need to compare the output and the target variable to let our model know that how to update the values of weights\n",
        " but the model outputs a probability distribution, and the labels are just numbers.\n",
        "\n",
        "We can take the label that had the highest probability (the index of the largest output for each input, aka the argmax over dimension 1) and treat that as the model's prediction for the digit in the image.\n"
      ]
    },
    {
      "cell_type": "code",
      "execution_count": null,
      "metadata": {
        "id": "An3MpNPRfgGP"
      },
      "outputs": [],
      "source": [
        "def accuracy(out: torch.Tensor, yb: torch.Tensor) -> torch.Tensor:\n",
        "  preds = torch.argmax(out, dim=1)\n",
        "  return (preds == yb).float().mean()"
      ]
    },
    {
      "cell_type": "code",
      "execution_count": null,
      "metadata": {
        "id": "VAo3oLtSfgvo",
        "colab": {
          "base_uri": "https://localhost:8080/"
        },
        "outputId": "c8f02593-ba81-4ffa-f953-f7975cd29ab2"
      },
      "outputs": [
        {
          "output_type": "stream",
          "name": "stdout",
          "text": [
            "tensor(0.0781)\n"
          ]
        }
      ],
      "source": [
        "yb = y_train[0:bs]\n",
        "\n",
        "acc = accuracy(outs, yb)\n",
        "\n",
        "print(acc)"
      ]
    },
    {
      "cell_type": "markdown",
      "metadata": {
        "id": "VRm9WddBfgzU"
      },
      "source": [
        "We can calculate how good our network is doing, so are we ready to use optimization to make it do better?\n",
        "\n",
        "Not yet! To train neural networks, we use gradients (aka derivatives). So all of the functions we use need to be differentiable -- in particular they need to change smoothly so that a small change in input can only cause a small change in output.\n",
        "\n",
        "Our argmax breaks that rule (if the values at index 0 and index N are really close together, a tiny change can change the output by N) so we can't use it.\n",
        "\n",
        "If we try to run our backwards pass to get a gradient, we get a RuntimeError:"
      ]
    },
    {
      "cell_type": "code",
      "execution_count": null,
      "metadata": {
        "id": "ySbI4agRV1VF",
        "colab": {
          "base_uri": "https://localhost:8080/"
        },
        "outputId": "ed3aae6c-9923-45bb-e3f8-d3898fe20ad3"
      },
      "outputs": [
        {
          "output_type": "stream",
          "name": "stdout",
          "text": [
            "element 0 of tensors does not require grad and does not have a grad_fn\n"
          ]
        }
      ],
      "source": [
        "try:\n",
        "  acc.backward()\n",
        "except RuntimeError as e:\n",
        "  print(e)"
      ]
    },
    {
      "cell_type": "code",
      "execution_count": null,
      "metadata": {
        "id": "GY4ufDHEV1XP"
      },
      "outputs": [],
      "source": [
        "def cross_entropy(output: torch.Tensor, target: torch.Tensor) -> torch.Tensor:\n",
        "  return -output[range(target.shape[0]), target].mean()\n",
        "\n",
        "loss_func = cross_entropy"
      ]
    },
    {
      "cell_type": "code",
      "execution_count": null,
      "metadata": {
        "id": "YFyP-gE8V1fT",
        "colab": {
          "base_uri": "https://localhost:8080/"
        },
        "outputId": "4aa893d2-c3f5-413c-ab47-fcef43542f76"
      },
      "outputs": [
        {
          "output_type": "stream",
          "name": "stdout",
          "text": [
            "tensor(2.3943, grad_fn=<NegBackward0>) tensor(2.3026)\n"
          ]
        }
      ],
      "source": [
        "print(loss_func(outs, yb), -torch.log(torch.tensor(1 / 10)))"
      ]
    },
    {
      "cell_type": "code",
      "execution_count": null,
      "metadata": {
        "id": "50OamddYcvdB"
      },
      "outputs": [],
      "source": [
        "loss = loss_func(outs, yb)\n",
        "\n",
        "loss.backward()"
      ]
    },
    {
      "cell_type": "code",
      "execution_count": null,
      "metadata": {
        "id": "29kAbgq5c221",
        "colab": {
          "base_uri": "https://localhost:8080/"
        },
        "outputId": "846213b5-cfd7-4048-f145-d0bb598a64e0"
      },
      "outputs": [
        {
          "output_type": "execute_result",
          "data": {
            "text/plain": [
              "tensor([ 0.0048, -0.0015,  0.0216, -0.0268, -0.0525,  0.0537, -0.0031,  0.0029,\n",
              "         0.0089, -0.0081])"
            ]
          },
          "metadata": {},
          "execution_count": 28
        }
      ],
      "source": [
        "bias.grad"
      ]
    },
    {
      "cell_type": "markdown",
      "metadata": {
        "id": "xXrIy3CuUE-u"
      },
      "source": [
        "## Defining and running the fitting loop"
      ]
    },
    {
      "cell_type": "markdown",
      "metadata": {
        "id": "mZriHsBoUKXl"
      },
      "source": [
        "We now have all the ingredients we need to fit a neural network to data:\n",
        "- data (`x_train`, `y_train`)\n",
        "- a network architecture with parameters (`model`, `weights`, and `bias`)\n",
        "- a `loss_func`tion to optimize (`cross_entropy`) that supports `.backward` computation of gradients\n",
        "\n",
        "We can put them together into a training loop\n",
        "just using normal Python features,\n",
        "like `for` loops, indexing, and function calls:"
      ]
    },
    {
      "cell_type": "code",
      "execution_count": null,
      "metadata": {
        "id": "hnmffzPGdRkt"
      },
      "outputs": [],
      "source": [
        "lr = 0.5 #learning_rate\n",
        "epochs = 2 # how many epochs to train for\n",
        "\n",
        "for epoch in range(epochs):   # iterates over dataset for no. of epochs\n",
        "  for i in range((n-1) // bs + 1):  # iterates over the dataset in batch size\n",
        "    # determines the indexs of batch\n",
        "    start_idx = i * bs\n",
        "    end_idx = start_idx + bs\n",
        "\n",
        "    # Creates batch from the large dataset\n",
        "    xb = x_train[start_idx : end_idx]\n",
        "    yb = y_train[start_idx : end_idx]\n",
        "\n",
        "    # runs the model on mini batch to generate prediction\n",
        "    pred = model(xb)\n",
        "\n",
        "    # calculates the loss between actual target and prediction\n",
        "    loss = loss_func(pred, yb)\n",
        "\n",
        "    #calculate the gradients with a backward pass\n",
        "    loss.backward()\n",
        "\n",
        "    # updates the parameters\n",
        "    with torch.no_grad():  # we don't want to track gradients through this part!\n",
        "      # SGD learning rule: update with negative gradient scaled by lr\n",
        "      weights -= weights.grad * lr\n",
        "      bias -= bias.grad * lr\n",
        "\n",
        "      '''NOTE: PyTorch doesn't assume you're done with gradients\n",
        "          until you say so -- by explicitly \"deleting\" them,\n",
        "          i.e. setting the gradients to 0\n",
        "      '''\n",
        "      weights.grad.zero_()\n",
        "      bias.grad.zero_()\n"
      ]
    },
    {
      "cell_type": "markdown",
      "metadata": {
        "id": "g9ASBK1igzv-"
      },
      "source": [
        "To check the function is working we will confirm if the values of  `loss_func` and `accuracy` has gone down."
      ]
    },
    {
      "cell_type": "code",
      "execution_count": null,
      "metadata": {
        "id": "3_rUY4bXG0UV",
        "colab": {
          "base_uri": "https://localhost:8080/"
        },
        "outputId": "c8a2d3c8-677b-4b67-fc96-258344a7c3f9"
      },
      "outputs": [
        {
          "output_type": "stream",
          "name": "stdout",
          "text": [
            "tensor(0.0817, grad_fn=<NegBackward0>) tensor(1.)\n"
          ]
        }
      ],
      "source": [
        "print(loss_func(model(xb), yb), accuracy(model(xb), yb))"
      ]
    },
    {
      "cell_type": "markdown",
      "metadata": {
        "id": "RsTqOvxzOAa1"
      },
      "source": [
        "# Refactoring with core `torch.nn` components\n"
      ]
    },
    {
      "cell_type": "markdown",
      "metadata": {
        "id": "sVlmiQtkHIP4"
      },
      "source": [
        "\n",
        "For the next few sections,\n",
        "we'll progressively refactor this code to\n",
        "make it shorter, cleaner,\n",
        "and more extensible\n",
        "using tools from the sublibraries of PyTorch:\n",
        "`torch.nn`, `torch.optim`, and `torch.utils.data`.\n"
      ]
    },
    {
      "cell_type": "markdown",
      "metadata": {
        "id": "QeOO7gIcSlwT"
      },
      "source": [
        "## Using torch.nn.functional for stateless computation"
      ]
    },
    {
      "cell_type": "markdown",
      "metadata": {
        "id": "_r4GFpsHS-jk"
      },
      "source": [
        "First, let's drop that `cross_entropy` and `log_softmax`"
      ]
    },
    {
      "cell_type": "code",
      "execution_count": null,
      "metadata": {
        "id": "H3srC7dDTdoh"
      },
      "outputs": [],
      "source": [
        "import torch.nn.functional as F\n",
        "\n",
        "loss_func = F.cross_entropy\n",
        "\n",
        "def model(xb):\n",
        "  return xb @ weights + bias"
      ]
    },
    {
      "cell_type": "code",
      "execution_count": null,
      "metadata": {
        "id": "C1ojKKlLTowi",
        "colab": {
          "base_uri": "https://localhost:8080/"
        },
        "outputId": "080f4234-6f81-43eb-824c-215c1a6a4a77"
      },
      "outputs": [
        {
          "output_type": "stream",
          "name": "stdout",
          "text": [
            "tensor(0.0817, grad_fn=<NllLossBackward0>) tensor(1.)\n"
          ]
        }
      ],
      "source": [
        "print(loss_func(model(xb), yb), accuracy(model(xb), yb))  # should be unchanged"
      ]
    },
    {
      "cell_type": "markdown",
      "metadata": {
        "id": "tr1gzYluSynk"
      },
      "source": [
        "## Using torch.nn.Module to define functions whose state is given by torch.nn.Parameters"
      ]
    },
    {
      "cell_type": "markdown",
      "metadata": {
        "id": "OuYtElKgTr0O"
      },
      "source": [
        "Challenge:- Handling State in Nueral Network. In DNN the tension arises from the desire to treat neural network as functions during inference, where inputs are transformed into outputs, while they are inherently stateful due to the need for parameter optimization during training.\n",
        "\n",
        "We want to use them as a functions\n",
        "\n",
        "PyTorch's solution to this is the `nn.Module` class:\n",
        "a Python class that is callable like a function\n",
        "but tracks state like an object.\n",
        "\n",
        "  `nn.Parameter` is a wrapper around a Tensor that tells PyTorch that it should be considered a parameter of the model and will be optimized during training."
      ]
    },
    {
      "cell_type": "code",
      "execution_count": null,
      "metadata": {
        "id": "PU3dh2ANWbyT"
      },
      "outputs": [],
      "source": [
        "from torch import nn\n",
        "\n",
        "class MNISTLogistic(nn.Module):\n",
        "  def __init__(self):\n",
        "    super().__init__()    # calls the parent class\n",
        "    self.weights = nn.Parameter(torch.randn(784, 10) / math.sqrt(784))\n",
        "    self.bias = nn.Parameter(torch.zeros(10))"
      ]
    },
    {
      "cell_type": "markdown",
      "metadata": {
        "id": "JLr5Ro4wX1Yv"
      },
      "source": [
        "We've separated the definition of the `.forward` method\n",
        "from the definition of the class above and\n",
        "attached the method to the class manually below.\n",
        "We only do this to make the construction of the class\n",
        "easier to read and understand in the context this notebook --\n",
        "a neat little trick we'll use a lot in these labs.\n",
        "Normally, we'd just define the `nn.Module` all at once."
      ]
    },
    {
      "cell_type": "code",
      "execution_count": null,
      "metadata": {
        "id": "S_GcuI3WmkS7",
        "colab": {
          "base_uri": "https://localhost:8080/"
        },
        "outputId": "5b8ad99e-ae5e-4c4e-9fae-93d0224cc214"
      },
      "outputs": [
        {
          "output_type": "stream",
          "name": "stdout",
          "text": [
            "tensor([[-0.1814,  0.4743,  0.5328, -0.7511,  0.0783, -0.3947,  0.0400,  0.0079,\n",
            "          0.0937, -0.1772],\n",
            "        [ 0.1161, -0.2883,  0.2825, -0.7603, -0.0962, -0.2342, -0.3907, -0.9952,\n",
            "          0.6202,  0.3406],\n",
            "        [ 0.0287, -0.1160,  0.2322, -0.5794, -0.1520, -0.4033,  0.3408, -0.0086,\n",
            "          0.2562,  0.0151],\n",
            "        [ 0.1083, -0.0685, -0.1527, -0.5589,  0.0661, -0.0590, -0.5007, -0.4315,\n",
            "          0.1728,  0.2218]], grad_fn=<SliceBackward0>)\n",
            "tensor([[ 0.0000e+00,  0.0000e+00,  0.0000e+00,  0.0000e+00,  0.0000e+00],\n",
            "        [ 0.0000e+00,  0.0000e+00,  0.0000e+00,  0.0000e+00,  0.0000e+00],\n",
            "        [ 0.0000e+00,  0.0000e+00,  0.0000e+00,  0.0000e+00,  0.0000e+00],\n",
            "        [ 0.0000e+00,  0.0000e+00,  0.0000e+00,  0.0000e+00,  0.0000e+00],\n",
            "        [ 0.0000e+00,  0.0000e+00,  0.0000e+00,  0.0000e+00,  0.0000e+00],\n",
            "        [ 0.0000e+00,  0.0000e+00,  0.0000e+00,  0.0000e+00,  0.0000e+00],\n",
            "        [ 6.4194e-03,  8.4073e-03,  7.9137e-03,  3.8801e-03,  1.9468e-02],\n",
            "        [ 0.0000e+00,  0.0000e+00,  0.0000e+00,  0.0000e+00,  0.0000e+00],\n",
            "        [ 0.0000e+00,  0.0000e+00,  0.0000e+00,  0.0000e+00,  0.0000e+00],\n",
            "        [-2.8722e-02,  3.9178e-03,  4.8643e-02,  3.6425e-02, -1.0014e-01],\n",
            "        [ 0.0000e+00,  0.0000e+00,  0.0000e+00,  0.0000e+00,  0.0000e+00],\n",
            "        [-3.0327e-02,  2.1657e-02, -3.8848e-02,  1.3222e-02, -3.5285e-02],\n",
            "        [ 1.7183e-02,  2.7587e-02,  2.4542e-02,  1.5411e-02, -2.6664e-02],\n",
            "        [ 0.0000e+00,  0.0000e+00,  0.0000e+00,  0.0000e+00,  0.0000e+00],\n",
            "        [-6.8329e-02,  3.5480e-02,  4.2356e-02,  4.1981e-02, -1.1219e-02],\n",
            "        [ 0.0000e+00,  0.0000e+00,  0.0000e+00,  0.0000e+00,  0.0000e+00],\n",
            "        [-9.5119e-02,  2.9244e-02,  4.9423e-03,  2.2964e-02, -8.8375e-03],\n",
            "        [-6.4699e-02,  7.6801e-02,  6.0053e-02,  4.9778e-02, -8.7360e-02],\n",
            "        [ 0.0000e+00,  0.0000e+00,  0.0000e+00,  0.0000e+00,  0.0000e+00],\n",
            "        [ 2.5747e-02,  3.4637e-02,  2.6013e-02,  1.7860e-02, -2.0785e-02],\n",
            "        [ 0.0000e+00,  0.0000e+00,  0.0000e+00,  0.0000e+00,  0.0000e+00],\n",
            "        [-5.6811e-02,  7.4369e-03,  7.3413e-03,  4.6505e-03,  6.7386e-03],\n",
            "        [ 2.5550e-02,  2.7949e-02, -5.9906e-02,  2.1354e-02, -3.1666e-02],\n",
            "        [ 0.0000e+00,  0.0000e+00,  0.0000e+00,  0.0000e+00,  0.0000e+00],\n",
            "        [ 4.5061e-02,  5.9948e-02, -1.9765e-02,  4.4884e-02, -5.7757e-02],\n",
            "        [ 7.4601e-03,  7.8799e-03, -5.4733e-02,  4.8158e-03,  7.7053e-03],\n",
            "        [-2.8067e-02,  4.5943e-03,  4.6014e-03,  2.8564e-03,  4.0875e-03],\n",
            "        [-6.1607e-03,  2.2261e-05, -5.4567e-02,  4.1984e-02,  1.5933e-02],\n",
            "        [ 0.0000e+00,  0.0000e+00,  0.0000e+00,  0.0000e+00,  0.0000e+00],\n",
            "        [-1.1393e-02,  1.0911e-02, -4.8023e-02,  4.7133e-02, -6.6065e-02],\n",
            "        [-5.5577e-02,  9.7824e-03,  8.9801e-03,  7.7797e-03,  1.0884e-02],\n",
            "        [-1.3430e-03,  1.8858e-04,  1.6938e-04,  1.6433e-04,  1.5109e-04],\n",
            "        [-5.1369e-02,  5.1281e-02, -5.6097e-03,  3.2239e-02, -8.5651e-02],\n",
            "        [ 0.0000e+00,  0.0000e+00,  0.0000e+00,  0.0000e+00,  0.0000e+00],\n",
            "        [-8.6635e-02,  5.3002e-02, -2.8739e-03,  4.2811e-02, -3.7342e-02],\n",
            "        [-5.5638e-02,  9.6455e-03,  8.9029e-03,  7.6921e-03,  1.0843e-02],\n",
            "        [ 0.0000e+00,  0.0000e+00,  0.0000e+00,  0.0000e+00,  0.0000e+00],\n",
            "        [-1.0038e-01,  3.9086e-02,  8.1086e-02,  6.7936e-02, -6.4193e-02],\n",
            "        [ 0.0000e+00,  0.0000e+00,  0.0000e+00,  0.0000e+00,  0.0000e+00],\n",
            "        [ 1.3263e-02,  2.2693e-02,  1.7418e-02,  1.4042e-02, -3.8673e-02],\n",
            "        [ 0.0000e+00,  0.0000e+00,  0.0000e+00,  0.0000e+00,  0.0000e+00],\n",
            "        [ 0.0000e+00,  0.0000e+00,  0.0000e+00,  0.0000e+00,  0.0000e+00],\n",
            "        [ 1.2423e-03,  9.7939e-04,  7.3028e-04,  1.0628e-03,  1.1094e-03],\n",
            "        [ 0.0000e+00,  0.0000e+00,  0.0000e+00,  0.0000e+00,  0.0000e+00],\n",
            "        [ 0.0000e+00,  0.0000e+00,  0.0000e+00,  0.0000e+00,  0.0000e+00],\n",
            "        [ 0.0000e+00,  0.0000e+00,  0.0000e+00,  0.0000e+00,  0.0000e+00],\n",
            "        [ 0.0000e+00,  0.0000e+00,  0.0000e+00,  0.0000e+00,  0.0000e+00]])\n"
          ]
        }
      ],
      "source": [
        "def forward(self, xb: torch.Tensor) -> torch.Tensor:\n",
        "  return xb @ self.weights + self.bias\n",
        "\n",
        "MNISTLogistic.forward = forward\n",
        "\n",
        "model = MNISTLogistic()\n",
        "print(model(xb)[:4])\n",
        "loss = loss_func(model(xb), yb)\n",
        "loss.backward()\n",
        "print(model.weights.grad[::17, ::2])"
      ]
    },
    {
      "cell_type": "markdown",
      "metadata": {
        "id": "VI0U7qVJp1dc"
      },
      "source": [
        "But how do we apply our updates?\n",
        "Do we need to access `model.weights.grad` and `model.weights`,\n",
        "like we did in our first implementation?\n",
        "\n",
        "Luckily, we don't!\n",
        "We can iterate over all of our model's `torch.nn.Parameters`\n",
        "via the `.parameters` method:"
      ]
    },
    {
      "cell_type": "code",
      "execution_count": null,
      "metadata": {
        "id": "BRQXBOCqdNkQ",
        "colab": {
          "base_uri": "https://localhost:8080/"
        },
        "outputId": "67bd9091-04cc-41e8-c1bf-83080bf676af"
      },
      "outputs": [
        {
          "output_type": "stream",
          "name": "stdout",
          "text": [
            "Parameter containing:\n",
            "tensor([[ 0.0760, -0.0061,  0.0557,  ...,  0.0302, -0.0037, -0.0131],\n",
            "        [-0.0625,  0.0331, -0.0042,  ..., -0.0162,  0.0048, -0.0103],\n",
            "        [-0.0054,  0.0034, -0.0082,  ..., -0.0061,  0.0252, -0.0331],\n",
            "        ...,\n",
            "        [-0.0534, -0.0116,  0.0083,  ..., -0.0132,  0.0024,  0.0068],\n",
            "        [-0.0492, -0.0078, -0.0024,  ..., -0.0801, -0.0153,  0.0017],\n",
            "        [-0.0172,  0.0006, -0.0036,  ...,  0.0182, -0.0895,  0.0169]],\n",
            "       requires_grad=True)\n",
            "Parameter containing:\n",
            "tensor([0., 0., 0., 0., 0., 0., 0., 0., 0., 0.], requires_grad=True)\n"
          ]
        }
      ],
      "source": [
        "print(*list(model.parameters()), sep=\"\\n\")"
      ]
    },
    {
      "cell_type": "markdown",
      "metadata": {
        "id": "i7mfrEQbdPUr"
      },
      "source": [
        "That means we no longer need to assume we know the names\n",
        "of the model's parameters when we do our update --\n",
        "we can reuse the same loop with different models.\n",
        "\n",
        "Let's wrap up into single function to `fit` our model"
      ]
    },
    {
      "cell_type": "code",
      "execution_count": null,
      "metadata": {
        "id": "ShICn87-7POT"
      },
      "outputs": [],
      "source": [
        "def fit():\n",
        "  for epoch in range(epochs):\n",
        "    for i in range((n - 1) // bs + 1):\n",
        "      start_idx = i * bs\n",
        "      end_idx = start_idx + bs\n",
        "      xb = x_train[start_idx : end_idx]\n",
        "      yb = y_train[start_idx : end_idx]\n",
        "      pred = model(xb)\n",
        "      loss = loss_func(pred, yb)\n",
        "\n",
        "      loss.backward()\n",
        "\n",
        "      with torch.no_grad():\n",
        "        for p in model.parameters():\n",
        "          p -= p.grad * lr\n",
        "        model.zero_grad()\n",
        "\n",
        "fit()"
      ]
    },
    {
      "cell_type": "code",
      "execution_count": null,
      "metadata": {
        "id": "t6CcfK3H8Zvu",
        "colab": {
          "base_uri": "https://localhost:8080/"
        },
        "outputId": "2d92bdfb-03c6-4107-a34d-7d1fe21650ea"
      },
      "outputs": [
        {
          "output_type": "stream",
          "name": "stdout",
          "text": [
            "tensor(1.)\n"
          ]
        }
      ],
      "source": [
        "print(accuracy(model(xb), yb))"
      ]
    },
    {
      "cell_type": "markdown",
      "metadata": {
        "id": "djYhdwz38ai3"
      },
      "source": [
        "#Refactoring intermediate `torch.nn` components: network layers, optimizers, and data handling"
      ]
    },
    {
      "cell_type": "markdown",
      "metadata": {
        "id": "Im6rxI-l8al3"
      },
      "source": [
        "## Using `torch.nn.Linear` for the model definition"
      ]
    },
    {
      "cell_type": "markdown",
      "metadata": {
        "id": "e11obvEP8-Wc"
      },
      "source": [
        "These `nn.Module`s are reusable --\n",
        "say, if we want to make a network with multiple layers of the same type --\n",
        "and there are lots of them already defined:"
      ]
    },
    {
      "cell_type": "code",
      "execution_count": null,
      "metadata": {
        "id": "5hADq4QX-4ge",
        "colab": {
          "base_uri": "https://localhost:8080/"
        },
        "outputId": "bc448399-82f7-4ba3-d0df-5557cdc17c32"
      },
      "outputs": [
        {
          "output_type": "stream",
          "name": "stdout",
          "text": [
            "torch.nn.Modules\n",
            "\tModule, Identity, Linear, Conv1d, Conv2d, Conv3d, ConvTranspose1d,\n",
            "\tConvTranspose2d, ConvTranspose3d, Threshold, ReLU, Hardtanh, ReLU6,\n",
            "\tSigmoid, Tanh, Softmax, Softmax2d, LogSoftmax, ELU, SELU, CELU, GLU,\n",
            "\tGELU, Hardshrink, LeakyReLU, LogSigmoid, Softplus, Softshrink,\n",
            "\tMultiheadAttention, PReLU, Softsign, Softmin, Tanhshrink, RReLU,\n",
            "\tL1Loss, NLLLoss, KLDivLoss, MSELoss, BCELoss, BCEWithLogitsLoss,\n",
            "\tNLLLoss2d, PoissonNLLLoss, CosineEmbeddingLoss, CTCLoss,\n",
            "\tHingeEmbeddingLoss, MarginRankingLoss, MultiLabelMarginLoss,\n",
            "\tMultiLabelSoftMarginLoss, MultiMarginLoss, SmoothL1Loss,\n",
            "\tGaussianNLLLoss, HuberLoss, SoftMarginLoss, CrossEntropyLoss,\n",
            "\tContainer, Sequential, ModuleList, ModuleDict, ParameterList,\n",
            "\tParameterDict, AvgPool1d, AvgPool2d, AvgPool3d, MaxPool1d, MaxPool2d,\n",
            "\tMaxPool3d, MaxUnpool1d, MaxUnpool2d, MaxUnpool3d, FractionalMaxPool2d,\n",
            "\tFractionalMaxPool3d, LPPool1d, LPPool2d, LocalResponseNorm,\n",
            "\tBatchNorm1d, BatchNorm2d, BatchNorm3d, InstanceNorm1d, InstanceNorm2d,\n",
            "\tInstanceNorm3d, LayerNorm, GroupNorm, SyncBatchNorm, Dropout,\n",
            "\tDropout1d, Dropout2d, Dropout3d, AlphaDropout, FeatureAlphaDropout,\n",
            "\tReflectionPad1d, ReflectionPad2d, ReflectionPad3d, ReplicationPad2d,\n",
            "\tReplicationPad1d, ReplicationPad3d, CrossMapLRN2d, Embedding,\n",
            "\tEmbeddingBag, RNNBase, RNN, LSTM, GRU, RNNCellBase, RNNCell, LSTMCell,\n",
            "\tGRUCell, PixelShuffle, PixelUnshuffle, Upsample, UpsamplingNearest2d,\n",
            "\tUpsamplingBilinear2d, PairwiseDistance, AdaptiveMaxPool1d,\n",
            "\tAdaptiveMaxPool2d, AdaptiveMaxPool3d, AdaptiveAvgPool1d,\n",
            "\tAdaptiveAvgPool2d, AdaptiveAvgPool3d, TripletMarginLoss, ZeroPad1d,\n",
            "\tZeroPad2d, ZeroPad3d, ConstantPad1d, ConstantPad2d, ConstantPad3d,\n",
            "\tBilinear, CosineSimilarity, Unfold, Fold, AdaptiveLogSoftmaxWithLoss,\n",
            "\tTransformerEncoder, TransformerDecoder, TransformerEncoderLayer,\n",
            "\tTransformerDecoderLayer, Transformer, LazyLinear, LazyConv1d,\n",
            "\tLazyConv2d, LazyConv3d, LazyConvTranspose1d, LazyConvTranspose2d,\n",
            "\tLazyConvTranspose3d, LazyBatchNorm1d, LazyBatchNorm2d,\n",
            "\tLazyBatchNorm3d, LazyInstanceNorm1d, LazyInstanceNorm2d,\n",
            "\tLazyInstanceNorm3d, Flatten, Unflatten, Hardsigmoid, Hardswish, SiLU,\n",
            "\tMish, TripletMarginWithDistanceLoss, ChannelShuffle, CircularPad1d,\n",
            "\tCircularPad2d, CircularPad3d\n"
          ]
        }
      ],
      "source": [
        "import textwrap\n",
        "\n",
        "print(\"torch.nn.Modules\", *textwrap.wrap(\", \".join(torch.nn.modules.__all__)), sep=\"\\n\\t\")"
      ]
    },
    {
      "cell_type": "code",
      "execution_count": null,
      "metadata": {
        "id": "tdbw24pk_Lk_"
      },
      "outputs": [],
      "source": [
        "class MNISTLogistic(nn.Module):\n",
        "  def __init__(self):\n",
        "    super().__init__()\n",
        "    self.lin = nn.Linear(784, 10)  #pytorch finds the nn.Parameter inside this nn.Module\n",
        "\n",
        "  def forward(self, xb):\n",
        "    return self.lin(xb)   # this function call nn.Linear.forward here"
      ]
    },
    {
      "cell_type": "code",
      "execution_count": null,
      "metadata": {
        "id": "q-JtuUL7_LoU",
        "colab": {
          "base_uri": "https://localhost:8080/"
        },
        "outputId": "5f4c2238-7cf0-48f2-9b41-e92736dd1011"
      },
      "outputs": [
        {
          "output_type": "stream",
          "name": "stdout",
          "text": [
            "tensor(2.2364, grad_fn=<NllLossBackward0>)\n"
          ]
        }
      ],
      "source": [
        "model = MNISTLogistic()\n",
        "print(loss_func(model(xb), yb))"
      ]
    },
    {
      "cell_type": "markdown",
      "metadata": {
        "id": "Zsrz4T4AAGg5"
      },
      "source": [
        "We can see that the `nn.Linear` module is a \"child\"\n",
        "of the `model`,\n",
        "and we don't see the matrix of weights and the bias vector:"
      ]
    },
    {
      "cell_type": "code",
      "execution_count": null,
      "metadata": {
        "id": "a53ZuyUXAGk_",
        "colab": {
          "base_uri": "https://localhost:8080/"
        },
        "outputId": "21f8c4ec-609f-46c6-d151-de1c07dfd9f4"
      },
      "outputs": [
        {
          "output_type": "stream",
          "name": "stdout",
          "text": [
            "Linear(in_features=784, out_features=10, bias=True)\n"
          ]
        }
      ],
      "source": [
        "print(*list(model.children()))"
      ]
    },
    {
      "cell_type": "code",
      "execution_count": null,
      "metadata": {
        "id": "JYDdwhRhAGqQ",
        "colab": {
          "base_uri": "https://localhost:8080/"
        },
        "outputId": "5b86ad7d-5c76-4484-9041-3790ac9d774f"
      },
      "outputs": [
        {
          "output_type": "stream",
          "name": "stdout",
          "text": [
            "Parameter containing:\n",
            "tensor([[ 0.0014, -0.0110, -0.0120,  ...,  0.0349,  0.0247,  0.0050],\n",
            "        [-0.0119, -0.0009,  0.0224,  ..., -0.0280, -0.0246,  0.0062],\n",
            "        [ 0.0115, -0.0185, -0.0148,  ..., -0.0155, -0.0331, -0.0249],\n",
            "        ...,\n",
            "        [ 0.0123, -0.0104,  0.0240,  ...,  0.0109,  0.0271, -0.0336],\n",
            "        [-0.0208,  0.0057, -0.0266,  ..., -0.0187,  0.0040,  0.0301],\n",
            "        [-0.0121, -0.0330, -0.0346,  ..., -0.0031, -0.0266, -0.0256]],\n",
            "       requires_grad=True)\n",
            "Parameter containing:\n",
            "tensor([ 0.0214,  0.0312, -0.0310,  0.0046,  0.0224, -0.0105, -0.0113,  0.0305,\n",
            "         0.0164,  0.0316], requires_grad=True)\n"
          ]
        }
      ],
      "source": [
        "print(*list(model.parameters()), sep=\"\\n\")"
      ]
    },
    {
      "cell_type": "markdown",
      "metadata": {
        "id": "T_oBBF7aA1dV"
      },
      "source": [
        "##Applying gradient with torch.optim.Optimizer"
      ]
    },
    {
      "cell_type": "markdown",
      "metadata": {
        "id": "CTKN7CLuBBtX"
      },
      "source": [
        "So why are we doing that by hand?\n",
        "Now that our model is a `torch.nn.Module` using `torch.nn.Parameters`,\n",
        "we don't have to --\n",
        "we just need to point a `torch.optim.Optimizer`\n",
        "at the parameters of our model.\n",
        "\n",
        "While we're at it, we can also use a more sophisticated optimizer --\n",
        "`Adam` is a common first choice."
      ]
    },
    {
      "cell_type": "code",
      "execution_count": null,
      "metadata": {
        "id": "F3RjtugsBhyz"
      },
      "outputs": [],
      "source": [
        "from torch import optim\n",
        "\n",
        "def config_optimizer(model: nn.Module) -> optim.Optimizer:\n",
        "  return optim.Adam(model.parameters(), lr=3e-4)"
      ]
    },
    {
      "cell_type": "code",
      "execution_count": null,
      "metadata": {
        "id": "yTh_S4V1DD4-",
        "colab": {
          "base_uri": "https://localhost:8080/"
        },
        "outputId": "6767403c-5d51-495f-d238-819d65088d64"
      },
      "outputs": [
        {
          "output_type": "stream",
          "name": "stdout",
          "text": [
            "before training:\n",
            "\ttensor(2.2764, grad_fn=<NllLossBackward0>)\n",
            "after training: \n",
            "\ttensor(0.8428, grad_fn=<NllLossBackward0>)\n"
          ]
        }
      ],
      "source": [
        "model = MNISTLogistic()\n",
        "opt = config_optimizer(model)\n",
        "\n",
        "print(\"before training:\", loss_func(model(xb), yb), sep=\"\\n\\t\")\n",
        "\n",
        "for epoch in range(epochs):\n",
        "  for i in range((n - 1) // bs + 1):\n",
        "    start_idx = i * bs\n",
        "    end_idx = start_idx + bs\n",
        "\n",
        "    xb = x_train[start_idx : end_idx]\n",
        "    yb = y_train[start_idx : end_idx]\n",
        "\n",
        "    pred = model(xb)\n",
        "    loss = loss_func(pred, yb)\n",
        "\n",
        "    loss.backward()\n",
        "    opt.step()\n",
        "    opt.zero_grad()\n",
        "\n",
        "print(\"after training: \", loss_func(model(xb), yb), sep=\"\\n\\t\")\n"
      ]
    },
    {
      "cell_type": "markdown",
      "metadata": {
        "id": "q6taTmWNBByt"
      },
      "source": [
        "##Organizing data with torch.utils.data.Dataset"
      ]
    },
    {
      "cell_type": "markdown",
      "metadata": {
        "id": "NTD4xJ5zBMYQ"
      },
      "source": [
        "We're also manually handling the data.\n",
        "First, we're independently and manually aligning\n",
        "the inputs, `x_train`, and the outputs, `y_train`.\n",
        "\n",
        "Aligned data is important in ML.\n",
        "We want a way to combine multiple data sources together\n",
        "and index into them simultaneously.\n",
        "\n",
        "That's done with `torch.utils.data.Dataset`.\n",
        "Just inherit from it and implement two methods to support indexing:\n",
        "`__getitem__` and `__len__`."
      ]
    },
    {
      "cell_type": "code",
      "execution_count": null,
      "metadata": {
        "id": "rAZtE8WfFksZ"
      },
      "outputs": [],
      "source": [
        "from text_recognizer.data.util import BaseDataset\n",
        "\n",
        "train_ds = BaseDataset(x_train, y_train)"
      ]
    },
    {
      "cell_type": "markdown",
      "metadata": {
        "id": "GowtHa7RGC2K"
      },
      "source": [
        "The cell below will pull up the documentation for this class,\n",
        "which effectively just indexes into the two `Tensor`s simultaneously.\n",
        "\n",
        "It can also apply transformations to the inputs and targets.\n",
        "We'll see that later."
      ]
    },
    {
      "cell_type": "code",
      "execution_count": null,
      "metadata": {
        "id": "WriGMxxoGMAs"
      },
      "outputs": [],
      "source": [
        "BaseDataset??"
      ]
    },
    {
      "cell_type": "code",
      "execution_count": null,
      "metadata": {
        "id": "2_H5eDNkGQRG",
        "colab": {
          "base_uri": "https://localhost:8080/"
        },
        "outputId": "748f1c28-bfe0-4059-d984-ebd8af3dcc0f"
      },
      "outputs": [
        {
          "output_type": "stream",
          "name": "stdout",
          "text": [
            "tensor(0.8493, grad_fn=<NllLossBackward0>)\n"
          ]
        }
      ],
      "source": [
        "model = MNISTLogistic()\n",
        "opt = config_optimizer(model)\n",
        "\n",
        "for epoch in range(epochs):\n",
        "  for i in range((n - 1) // bs + 1):\n",
        "    xb, yb = train_ds[ i * bs : i * bs + bs]\n",
        "    pred = model(xb)\n",
        "    loss = loss_func(pred, yb)\n",
        "\n",
        "    loss.backward()\n",
        "    opt.step()\n",
        "    opt.zero_grad()\n",
        "\n",
        "print(loss_func(model(xb), yb))"
      ]
    },
    {
      "cell_type": "markdown",
      "metadata": {
        "id": "Mo8WSeSQBMjm"
      },
      "source": [
        "##Batching up data with torch.utils.data.DataLoader"
      ]
    },
    {
      "cell_type": "markdown",
      "metadata": {
        "id": "04iGWRO3BTpL"
      },
      "source": [
        "We're also still manually building our batches.\n",
        "\n",
        "Making batches out of datasets is a core component of contemporary deep learning training workflows,\n",
        "so unsurprisingly PyTorch offers a tool for it: the `DataLoader`.\n",
        "\n",
        "We just need to hand our `Dataset` to the `DataLoader`\n",
        "and choose a `batch_size`.\n",
        "\n",
        "We can tune that parameter and other `DataLoader` arguments,\n",
        "like `num_workers` and `pin_memory`,\n",
        "to improve the performance of our training loop.\n",
        "For more on the impact of `DataLoader` parameters on the behavior of PyTorch code, see\n",
        "[this blog post and Colab](https://wandb.ai/wandb/trace/reports/A-Public-Dissection-of-a-PyTorch-Training-Step--Vmlldzo5MDE3NjU)."
      ]
    },
    {
      "cell_type": "code",
      "execution_count": null,
      "metadata": {
        "id": "oqGfJaCUOm0c"
      },
      "outputs": [],
      "source": [
        "from torch.utils.data import DataLoader\n",
        "\n",
        "train_ds = BaseDataset(x_train, y_train)\n",
        "train_dataloader = DataLoader(train_ds,  batch_size = bs)"
      ]
    },
    {
      "cell_type": "code",
      "execution_count": null,
      "metadata": {
        "id": "qe0hyad_O-Yy"
      },
      "outputs": [],
      "source": [
        "def fit(self: nn.Module, train_dataloader: DataLoader):\n",
        "  opt = config_optimizer(self)\n",
        "\n",
        "  for epoch in range(epochs):\n",
        "    for xb, yb in train_dataloader:\n",
        "      pred = self(xb)\n",
        "      loss = loss_func(pred, yb)\n",
        "\n",
        "      loss.backward()\n",
        "      opt.step()\n",
        "      opt.zero_grad()\n",
        "\n",
        "MNISTLogistic.fit = fit"
      ]
    },
    {
      "cell_type": "code",
      "execution_count": null,
      "metadata": {
        "id": "6S5WbpDuPeVq",
        "colab": {
          "base_uri": "https://localhost:8080/"
        },
        "outputId": "39c281b0-9eac-4c77-ef0c-6eae1bf920d0"
      },
      "outputs": [
        {
          "output_type": "stream",
          "name": "stdout",
          "text": [
            "tensor(0.8514, grad_fn=<NllLossBackward0>)\n"
          ]
        }
      ],
      "source": [
        "model = MNISTLogistic()\n",
        "\n",
        "model.fit(train_dataloader)\n",
        "\n",
        "print(loss_func(model(xb), yb))"
      ]
    },
    {
      "cell_type": "markdown",
      "metadata": {
        "id": "huwHwLA7PnxN"
      },
      "source": [
        "Compare this training loop with our first training loop - much cleaner and much more powerfull!"
      ]
    },
    {
      "cell_type": "markdown",
      "metadata": {
        "id": "X7FsU1TeBTyZ"
      },
      "source": [
        "##Swapping in another model"
      ]
    },
    {
      "cell_type": "markdown",
      "metadata": {
        "id": "BhWb-QxBBZOu"
      },
      "source": [
        "To see that our new `.fit` is more powerful,\n",
        "let's use it with a different model.\n",
        "\n",
        "Specifically, let's draw in the `MLP`,\n",
        "or \"multi-layer perceptron\" model\n",
        "from the `text_recognizer` library\n",
        "in our codebase."
      ]
    },
    {
      "cell_type": "code",
      "execution_count": null,
      "metadata": {
        "id": "PoKELbcL1A88"
      },
      "outputs": [],
      "source": [
        "from text_recognizer.models.mlp import MLP\n",
        "\n",
        "\n",
        "MLP.fit = fit  # attach our fitting loop"
      ]
    },
    {
      "cell_type": "markdown",
      "metadata": {
        "id": "HvMYPFuj1FzB"
      },
      "source": [
        "If you look in the `.forward` method of the `MLP`,\n",
        "you'll see that it uses\n",
        "some modules and functions we haven't seen, like\n",
        "[`nn.Dropout`](https://pytorch.org/docs/stable/generated/torch.nn.Dropout.html)\n",
        "and [`F.relu`](https://pytorch.org/docs/stable/generated/torch.nn.functional.relu.html),\n",
        "but otherwise fits the interface of our training loop:\n",
        "the `MLP` is callable and it takes an `x` and returns a guess for the `y` labels."
      ]
    },
    {
      "cell_type": "code",
      "execution_count": null,
      "metadata": {
        "id": "sXW6o9Qg1RB_"
      },
      "outputs": [],
      "source": [
        "MLP.forward??"
      ]
    },
    {
      "cell_type": "markdown",
      "metadata": {
        "id": "CxnBxwjl1WaG"
      },
      "source": [
        "If we look at the constructor, `__init__`,\n",
        "we see that the `nn.Module`s (`fc` and `dropout`)\n",
        "are initialized and attached as attributes."
      ]
    },
    {
      "cell_type": "code",
      "execution_count": null,
      "metadata": {
        "id": "L9hZ4VTM1c0C"
      },
      "outputs": [],
      "source": [
        "MLP.__init__??"
      ]
    },
    {
      "cell_type": "markdown",
      "metadata": {
        "id": "Tn1N7m8R1c4U"
      },
      "source": [
        "We also see that we are required to provide a `data_config`\n",
        "dictionary and can optionally configure the module with `args`.\n",
        "\n",
        "For now, we'll only do the bare minimum and specify\n",
        "the contents of the `data_config`:\n",
        "the `input_dims` for `x` and the `mapping`\n",
        "from class index in `y` to class label,\n",
        "which we can see are used in the `__init__` method."
      ]
    },
    {
      "cell_type": "code",
      "execution_count": null,
      "metadata": {
        "id": "i8kWGcmO1c9b",
        "colab": {
          "base_uri": "https://localhost:8080/"
        },
        "outputId": "32db677e-c5d2-447b-d2c6-64e396b5b897"
      },
      "outputs": [
        {
          "output_type": "execute_result",
          "data": {
            "text/plain": [
              "{'input_dims': (784,),\n",
              " 'mapping': {0: '0',\n",
              "  1: '1',\n",
              "  2: '2',\n",
              "  3: '3',\n",
              "  4: '4',\n",
              "  5: '5',\n",
              "  6: '6',\n",
              "  7: '7',\n",
              "  8: '8',\n",
              "  9: '9'}}"
            ]
          },
          "metadata": {},
          "execution_count": 54
        }
      ],
      "source": [
        "digits_to_9 = list(range(10))\n",
        "data_config = {\"input_dims\": (784,), \"mapping\": {digit: str(digit) for digit in digits_to_9}}\n",
        "data_config"
      ]
    },
    {
      "cell_type": "code",
      "execution_count": null,
      "metadata": {
        "id": "beVZ2oJm1dDS",
        "colab": {
          "base_uri": "https://localhost:8080/"
        },
        "outputId": "e663896d-9071-4cbe-ce12-95a2bcc6e256"
      },
      "outputs": [
        {
          "output_type": "execute_result",
          "data": {
            "text/plain": [
              "MLP(\n",
              "  (fc1): Linear(in_features=784, out_features=1024, bias=True)\n",
              "  (dropout): Dropout(p=0.5, inplace=False)\n",
              "  (fc2): Linear(in_features=1024, out_features=128, bias=True)\n",
              "  (fc3): Linear(in_features=128, out_features=10, bias=True)\n",
              ")"
            ]
          },
          "metadata": {},
          "execution_count": 55
        }
      ],
      "source": [
        "model = MLP(data_config)\n",
        "model"
      ]
    },
    {
      "cell_type": "markdown",
      "metadata": {
        "id": "voKaWJ5N2lwP"
      },
      "source": [
        "The resulting MLP is a bit larger than our `MNISTLogistic` model"
      ]
    },
    {
      "cell_type": "code",
      "execution_count": null,
      "metadata": {
        "id": "PumQlHoh2wq-",
        "colab": {
          "base_uri": "https://localhost:8080/"
        },
        "outputId": "91518bfd-8d93-47b2-daa1-77ac7743aca7"
      },
      "outputs": [
        {
          "output_type": "execute_result",
          "data": {
            "text/plain": [
              "Parameter containing:\n",
              "tensor([[ 0.0257,  0.0249, -0.0169,  ..., -0.0328, -0.0028,  0.0175],\n",
              "        [ 0.0260,  0.0340,  0.0077,  ..., -0.0027,  0.0318,  0.0259],\n",
              "        [ 0.0172,  0.0141,  0.0296,  ..., -0.0024,  0.0300, -0.0299],\n",
              "        ...,\n",
              "        [ 0.0175, -0.0103, -0.0040,  ..., -0.0267, -0.0071, -0.0253],\n",
              "        [ 0.0336, -0.0206, -0.0186,  ..., -0.0202,  0.0266,  0.0072],\n",
              "        [ 0.0292, -0.0210, -0.0047,  ..., -0.0103, -0.0023, -0.0349]],\n",
              "       requires_grad=True)"
            ]
          },
          "metadata": {},
          "execution_count": 56
        }
      ],
      "source": [
        "model.fc1.weight"
      ]
    },
    {
      "cell_type": "markdown",
      "metadata": {
        "id": "ZW7nI_M-24PX"
      },
      "source": [
        "But that doesn't matter for our fitting loop, which happily optimizes this model on batches from the `train_dataloader`, though it takes a bit longer."
      ]
    },
    {
      "cell_type": "code",
      "execution_count": null,
      "metadata": {
        "colab": {
          "base_uri": "https://localhost:8080/"
        },
        "id": "Peuoi-S33LeZ",
        "outputId": "753d0a7b-f8ad-4f2e-eefb-3bc183cde6ef"
      },
      "outputs": [
        {
          "output_type": "stream",
          "name": "stdout",
          "text": [
            "before training: tensor(2.3120, grad_fn=<NllLossBackward0>)\n",
            "after training: tensor(0.2826, grad_fn=<NllLossBackward0>)\n",
            "CPU times: user 21.6 s, sys: 114 ms, total: 21.7 s\n",
            "Wall time: 27.4 s\n"
          ]
        }
      ],
      "source": [
        "%%time\n",
        "\n",
        "print(\"before training:\", loss_func(model(xb), yb))\n",
        "\n",
        "train_ds = BaseDataset(x_train, y_train)\n",
        "train_dataloader = DataLoader(train_ds, batch_size = bs)\n",
        "fit(model, train_dataloader)\n",
        "\n",
        "print(\"after training:\", loss_func(model(xb), yb))"
      ]
    },
    {
      "cell_type": "markdown",
      "metadata": {
        "id": "mYFqq2fQ3-Jk"
      },
      "source": [
        "#Extra goodies: data organization, validation, and acceleration"
      ]
    },
    {
      "cell_type": "markdown",
      "metadata": {
        "id": "jsNMVgLO4LNq"
      },
      "source": [
        "Before we've got a DNN fitting loop that's welcome in polite company,\n",
        "we need three more features:\n",
        "organized data loading code, validation, and GPU acceleration."
      ]
    },
    {
      "cell_type": "markdown",
      "metadata": {
        "id": "tE3WzasU5hSF"
      },
      "source": [
        "##Making the GPU go brrr"
      ]
    },
    {
      "cell_type": "markdown",
      "metadata": {
        "id": "8-nkci6c5hYG"
      },
      "source": [
        "Luckily, really excellent chips\n",
        "for accelerating deep learning are readily available\n",
        "as a consumer product:\n",
        "graphics processing units (GPUs),\n",
        "which are designed to perform large matrix multiplications in parallel.\n",
        "Their name derives from their origins\n",
        "applying large matrix multiplications to manipulate shapes and textures\n",
        "in for graphics engines for video games and CGI.\n",
        "\n",
        "If your system has a GPU and the right libraries installed\n",
        "for `torch` compatibility,\n",
        "the cell below will print information about its state."
      ]
    },
    {
      "cell_type": "code",
      "execution_count": null,
      "metadata": {
        "colab": {
          "base_uri": "https://localhost:8080/"
        },
        "id": "BWdRMQbf8YRU",
        "outputId": "742f640c-07de-42ae-8b44-d7e7cb206076"
      },
      "outputs": [
        {
          "output_type": "stream",
          "name": "stdout",
          "text": [
            "Sat Feb 10 07:37:24 2024       \n",
            "+---------------------------------------------------------------------------------------+\n",
            "| NVIDIA-SMI 535.104.05             Driver Version: 535.104.05   CUDA Version: 12.2     |\n",
            "|-----------------------------------------+----------------------+----------------------+\n",
            "| GPU  Name                 Persistence-M | Bus-Id        Disp.A | Volatile Uncorr. ECC |\n",
            "| Fan  Temp   Perf          Pwr:Usage/Cap |         Memory-Usage | GPU-Util  Compute M. |\n",
            "|                                         |                      |               MIG M. |\n",
            "|=========================================+======================+======================|\n",
            "|   0  Tesla T4                       Off | 00000000:00:04.0 Off |                    0 |\n",
            "| N/A   47C    P8               9W /  70W |      3MiB / 15360MiB |      0%      Default |\n",
            "|                                         |                      |                  N/A |\n",
            "+-----------------------------------------+----------------------+----------------------+\n",
            "                                                                                         \n",
            "+---------------------------------------------------------------------------------------+\n",
            "| Processes:                                                                            |\n",
            "|  GPU   GI   CI        PID   Type   Process name                            GPU Memory |\n",
            "|        ID   ID                                                             Usage      |\n",
            "|=======================================================================================|\n",
            "|  No running processes found                                                           |\n",
            "+---------------------------------------------------------------------------------------+\n"
          ]
        }
      ],
      "source": [
        "if torch.cuda.is_available():\n",
        "  !nvidia-smi\n",
        "else:\n",
        "  print(\"cuda not available\")"
      ]
    },
    {
      "cell_type": "code",
      "execution_count": null,
      "metadata": {
        "colab": {
          "base_uri": "https://localhost:8080/"
        },
        "id": "I4HwdbhA8kym",
        "outputId": "94821cc2-6b93-4d56-d1ab-e85b68664426"
      },
      "outputs": [
        {
          "output_type": "execute_result",
          "data": {
            "text/plain": [
              "tensor(0.3755, device='cuda:0', grad_fn=<NllLossBackward0>)"
            ]
          },
          "metadata": {},
          "execution_count": 59
        }
      ],
      "source": [
        "device = torch.device(\"cuda\") if torch.cuda.is_available() else torch.device(\"cpu\")\n",
        "\n",
        "model.to(device)\n",
        "\n",
        "loss_func(model(xb.to(device)), yb.to(device))"
      ]
    },
    {
      "cell_type": "markdown",
      "metadata": {
        "id": "Ja1HsCG3OvD3"
      },
      "source": [
        "Specifically,\n",
        "we can provide a `transform` that is called on the inputs\n",
        "and a `target_transform` that is called on the labels\n",
        "before they are returned.\n",
        "In the FSDL codebase,\n",
        "this feature is used for data preparation, like\n",
        "reshaping, resizing,\n",
        "and normalization.\n",
        "\n",
        "We'll use this as an opportunity to put the `Tensor`s on the appropriate device."
      ]
    },
    {
      "cell_type": "code",
      "execution_count": null,
      "metadata": {
        "id": "qYTagWfeOvJE"
      },
      "outputs": [],
      "source": [
        "def push_to_device(tensor):\n",
        "  return tensor.to(device)\n",
        "\n",
        "train_ds = BaseDataset(x_train, y_train, transform = push_to_device, target_transform = push_to_device)\n",
        "train_dataloader = DataLoader(train_ds, batch_size = bs)"
      ]
    },
    {
      "cell_type": "code",
      "execution_count": null,
      "metadata": {
        "colab": {
          "base_uri": "https://localhost:8080/"
        },
        "id": "xScw4wR_OvMC",
        "outputId": "7f3d56f5-f362-4df7-f406-17d1ffc05a7f"
      },
      "outputs": [
        {
          "output_type": "stream",
          "name": "stdout",
          "text": [
            "tensor(0.4129, device='cuda:0', grad_fn=<NllLossBackward0>)\n",
            "CPU times: user 6.87 s, sys: 122 ms, total: 6.99 s\n",
            "Wall time: 7.25 s\n"
          ]
        }
      ],
      "source": [
        "%%time\n",
        "\n",
        "model = MLP(data_config)\n",
        "model.to(device)\n",
        "\n",
        "model.fit(train_dataloader)\n",
        "\n",
        "print(loss_func(model(push_to_device(xb)), push_to_device(yb)))"
      ]
    },
    {
      "cell_type": "markdown",
      "metadata": {
        "id": "NvV0uFauOvOz"
      },
      "source": [
        "##Adding validation data and organizing data code with a `DataModule`"
      ]
    },
    {
      "cell_type": "code",
      "execution_count": null,
      "metadata": {
        "id": "0s69HZqBOvRs"
      },
      "outputs": [],
      "source": [
        "class MNISTModule:\n",
        "  url = \"https://github.com/pytorch/tutorials/raw/master/_static/\"\n",
        "  filename = \"mnist.pkl.gz\"\n",
        "\n",
        "  def __init__(self, dir, bs=32):\n",
        "    self.dir = dir\n",
        "    self.bs = bs\n",
        "    self.path = self.dir/self.filename\n",
        "\n",
        "  def prepare_data(self):\n",
        "    if not(self.path).exists():\n",
        "      content = request.get(self.url + self.filename).content\n",
        "      self.path.open(\"wb\").write(content)\n",
        "\n",
        "  def setup(self):\n",
        "    with gzip.open(self.path, \"rb\") as f:\n",
        "      ((X_train, y_train), (x_valid, y_valid), _) = pickle.load(f, encoding=\"latin-1\")\n",
        "\n",
        "    X_train, y_train, x_valid, y_valid = map(\n",
        "        torch.tensor, (X_train, y_train, x_valid, y_valid)\n",
        "    )\n",
        "\n",
        "    self.train_ds = BaseDataset(X_train, y_train, transform = push_to_device, target_transform = push_to_device)\n",
        "    self.valid_ds = BaseDataset(x_valid, y_valid, transform = push_to_device, target_transform = push_to_device)\n",
        "\n",
        "  def train_dataloader(self):\n",
        "    return torch.utils.data.DataLoader(self.train_ds, batch_size=self.bs, shuffle=True)\n",
        "\n",
        "  def valid_dataloader(self):\n",
        "    return torch.utils.data.DataLoader(self.valid_ds, batch_size=self.bs, shuffle=True)\n",
        "\n",
        ""
      ]
    },
    {
      "cell_type": "code",
      "source": [
        "def fit(self: nn.Module, datamodule):\n",
        "    datamodule.prepare_data()\n",
        "    datamodule.setup()\n",
        "\n",
        "    valid_dataloader = datamodule.valid_dataloader()\n",
        "\n",
        "    self.eval()\n",
        "    with torch.no_grad():\n",
        "        valid_loss = sum(loss_func(self(xb), yb) for xb, yb in valid_dataloader)\n",
        "\n",
        "    print(\"before start of training:\", valid_loss / len(valid_dataloader))\n",
        "\n",
        "    opt = configure_optimizer(self)\n",
        "    train_dataloader = datamodule.train_dataloader()\n",
        "    for epoch in range(epochs):\n",
        "        self.train()\n",
        "        for xb, yb in train_dataloader:\n",
        "            pred = self(xb)\n",
        "            loss = loss_func(pred, yb)\n",
        "\n",
        "            loss.backward()\n",
        "            opt.step()\n",
        "            opt.zero_grad()\n",
        "\n",
        "        self.eval()\n",
        "        with torch.no_grad():\n",
        "            valid_loss = sum(loss_func(self(xb), yb) for xb, yb in valid_dataloader)\n",
        "\n",
        "        print(epoch, valid_loss / len(valid_dataloader))\n",
        "\n",
        "\n",
        "MNISTLogistic.fit = fit\n",
        "MLP.fit = fit"
      ],
      "metadata": {
        "id": "wkB30lGz2J15"
      },
      "execution_count": null,
      "outputs": []
    },
    {
      "cell_type": "code",
      "source": [],
      "metadata": {
        "id": "CsSeTtin2JyW"
      },
      "execution_count": null,
      "outputs": []
    },
    {
      "cell_type": "code",
      "source": [],
      "metadata": {
        "id": "ahSMlbC72Jv_"
      },
      "execution_count": null,
      "outputs": []
    },
    {
      "cell_type": "code",
      "source": [],
      "metadata": {
        "id": "vQ30foNK2JtQ"
      },
      "execution_count": null,
      "outputs": []
    },
    {
      "cell_type": "code",
      "source": [],
      "metadata": {
        "id": "xz4qlZQY2Jqg"
      },
      "execution_count": null,
      "outputs": []
    },
    {
      "cell_type": "code",
      "source": [],
      "metadata": {
        "id": "TssUpuKF2Jn_"
      },
      "execution_count": null,
      "outputs": []
    },
    {
      "cell_type": "code",
      "source": [],
      "metadata": {
        "id": "w--Adla92JlQ"
      },
      "execution_count": null,
      "outputs": []
    }
  ],
  "metadata": {
    "accelerator": "GPU",
    "colab": {
      "collapsed_sections": [
        "-vGZTpEMFzTU",
        "-wYc7ipEGHWk",
        "5kg1nFaII5Ma"
      ],
      "provenance": [],
      "authorship_tag": "ABX9TyPH6RT5+R5O9gN1EFoUM/B9",
      "include_colab_link": true
    },
    "kernelspec": {
      "display_name": "Python 3",
      "name": "python3"
    },
    "language_info": {
      "name": "python"
    }
  },
  "nbformat": 4,
  "nbformat_minor": 0
}